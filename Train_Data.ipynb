{
  "nbformat": 4,
  "nbformat_minor": 0,
  "metadata": {
    "colab": {
      "name": "Train_Data.ipynb",
      "provenance": [],
      "authorship_tag": "ABX9TyP64vge7lfR4u8Mkuw5xpHz",
      "include_colab_link": true
    },
    "kernelspec": {
      "name": "python3",
      "display_name": "Python 3"
    },
    "language_info": {
      "name": "python"
    }
  },
  "cells": [
    {
      "cell_type": "markdown",
      "metadata": {
        "id": "view-in-github",
        "colab_type": "text"
      },
      "source": [
        "<a href=\"https://colab.research.google.com/github/mrteacmbk/nlp/blob/master/Train_Data.ipynb\" target=\"_parent\"><img src=\"https://colab.research.google.com/assets/colab-badge.svg\" alt=\"Open In Colab\"/></a>"
      ]
    },
    {
      "cell_type": "code",
      "metadata": {
        "colab": {
          "base_uri": "https://localhost:8080/"
        },
        "id": "Sq0FuH4WX-55",
        "outputId": "62b3a2c0-65ac-461f-e18b-9084127b66b0"
      },
      "source": [
        "from google.colab import drive\n",
        "drive.mount('/content/gdrive')"
      ],
      "execution_count": 18,
      "outputs": [
        {
          "output_type": "stream",
          "name": "stdout",
          "text": [
            "Drive already mounted at /content/gdrive; to attempt to forcibly remount, call drive.mount(\"/content/gdrive\", force_remount=True).\n"
          ]
        }
      ]
    },
    {
      "cell_type": "code",
      "metadata": {
        "id": "WZlfcBLYYQ2z"
      },
      "source": [
        "!unzip -uq \"/content/gdrive/MyDrive/ocr.zip\" -d \"/content/\""
      ],
      "execution_count": 2,
      "outputs": []
    },
    {
      "cell_type": "code",
      "metadata": {
        "id": "NeVcH1RTlVIc"
      },
      "source": [
        "## Load dataset from drive into colab\n",
        "\n",
        "!cp -R /content/gdrive/MyDrive/Datasheet/Data /content/ocr "
      ],
      "execution_count": null,
      "outputs": []
    },
    {
      "cell_type": "code",
      "metadata": {
        "colab": {
          "base_uri": "https://localhost:8080/"
        },
        "id": "0g5xQ3h0gL7t",
        "outputId": "b6465db0-e63c-483e-af21-35e3c4a357e1"
      },
      "source": [
        "! gdown https://drive.google.com/u/0/uc?id=1T0cmkhTgu3ahyMIwGZeby612RpVdDxOR"
      ],
      "execution_count": 4,
      "outputs": [
        {
          "output_type": "stream",
          "name": "stdout",
          "text": [
            "Downloading...\n",
            "From: https://drive.google.com/u/0/uc?id=1T0cmkhTgu3ahyMIwGZeby612RpVdDxOR\n",
            "To: /content/ocr_dataset.zip\n",
            "100% 7.71G/7.71G [02:12<00:00, 58.2MB/s]\n"
          ]
        }
      ]
    },
    {
      "cell_type": "code",
      "metadata": {
        "id": "rv4CQUE9gOXn"
      },
      "source": [
        "! unzip -qq -o ./ocr_dataset.zip"
      ],
      "execution_count": 5,
      "outputs": []
    },
    {
      "cell_type": "code",
      "metadata": {
        "id": "6RhstR5ve49q"
      },
      "source": [
        "import os\n",
        "import shutil\n",
        "import glob"
      ],
      "execution_count": 6,
      "outputs": []
    },
    {
      "cell_type": "code",
      "metadata": {
        "id": "jE4PXUgue5nD"
      },
      "source": [
        "path_dirs = '/content/'\n",
        "dirs = os.listdir(path_dirs)\n",
        "dir_rm = {'en_00', 'en_01', 'meta', 'vi_00', 'vi_01', 'random', 'ocr_dataset.zip'}\n",
        "move_data = './ocr/'\n",
        "rm_dir = 'InkData_line_processed'\n",
        "for dir_ptr in dirs:\n",
        "    if dir_ptr == rm_dir:\n",
        "        path_dir = os.path.join(path_dirs, dir_ptr)\n",
        "        count = len(os.listdir(path_dir))\n",
        "        for list_file in os.listdir(path_dir):\n",
        "            file = list_file.split('.')\n",
        "            if list_file.endswith('.png'):\n",
        "                img_file = path_dir + \"/\" + file[0] + \".png\"\n",
        "                img_file_cp = move_data + str(count).zfill(2) + \".png\"\n",
        "                shutil.copy2(img_file, img_file_cp)\n",
        "            if list_file.endswith('.txt'):\n",
        "                text_file = path_dir + \"/\" + file[0] + \".txt\"\n",
        "                text_file_cp = move_data + str(count).zfill(2) + \".txt\"\n",
        "                shutil.copy2(text_file, text_file_cp)\n",
        "                count += 1\n",
        "        shutil.rmtree(os.path.join(path_dirs, dir_ptr))\n",
        "    if dir_ptr == dir_rm:\n",
        "        if dir_ptr != 'ocr_dataset.zip':\n",
        "            shutil.rmtree(os.path.join(path_dirs, dir_ptr))\n",
        "        os.remove(dir_ptr)\n",
        "\n",
        "list_txt = glob.glob(move_data + '*.txt')\n",
        "for f in list_txt:\n",
        "    os.remove(f)"
      ],
      "execution_count": 17,
      "outputs": []
    },
    {
      "cell_type": "code",
      "metadata": {
        "id": "I9xBjCnJk8Or"
      },
      "source": [
        "## Save into Drive\n",
        "\n",
        "!cp -R /content/ocr /content/gdrive/MyDrive/Datasheet/Data"
      ],
      "execution_count": null,
      "outputs": []
    },
    {
      "cell_type": "code",
      "metadata": {
        "id": "WETQYF14YS1S"
      },
      "source": [
        "## Load both training,test files  into colab\n",
        "\n",
        "!cp /content/gdrive/MyDrive/Datasheet/Data /content/"
      ],
      "execution_count": 8,
      "outputs": []
    },
    {
      "cell_type": "code",
      "metadata": {
        "colab": {
          "base_uri": "https://localhost:8080/"
        },
        "id": "yMf1bkl3YouQ",
        "outputId": "5db93c2e-5bea-4237-8eeb-546a6ed61099"
      },
      "source": [
        "! pip install --quiet vietocr==0.3.5"
      ],
      "execution_count": 4,
      "outputs": [
        {
          "output_type": "stream",
          "name": "stdout",
          "text": [
            "\u001b[K     |████████████████████████████████| 61 kB 3.1 MB/s \n",
            "\u001b[K     |████████████████████████████████| 280 kB 10.8 MB/s \n",
            "\u001b[?25h  Installing build dependencies ... \u001b[?25l\u001b[?25hdone\n",
            "  Getting requirements to build wheel ... \u001b[?25l\u001b[?25hdone\n",
            "    Preparing wheel metadata ... \u001b[?25l\u001b[?25hdone\n",
            "\u001b[K     |████████████████████████████████| 948 kB 44.0 MB/s \n",
            "\u001b[?25h  Building wheel for gdown (PEP 517) ... \u001b[?25l\u001b[?25hdone\n",
            "\u001b[31mERROR: pip's dependency resolver does not currently take into account all the packages that are installed. This behaviour is the source of the following dependency conflicts.\n",
            "albumentations 0.1.12 requires imgaug<0.2.7,>=0.2.5, but you have imgaug 0.4.0 which is incompatible.\u001b[0m\n"
          ]
        }
      ]
    },
    {
      "cell_type": "code",
      "metadata": {
        "id": "tr2xLVUPYpPN"
      },
      "source": [
        "import matplotlib.pyplot as plt\n",
        "from PIL import Image\n",
        "\n",
        "from vietocr.tool.predictor import Predictor\n",
        "from vietocr.tool.config import Cfg"
      ],
      "execution_count": 5,
      "outputs": []
    },
    {
      "cell_type": "code",
      "metadata": {
        "id": "7a0mUsSjYslH"
      },
      "source": [
        "from vietocr.tool.config import Cfg\n",
        "from vietocr.model.trainer import Trainer"
      ],
      "execution_count": 6,
      "outputs": []
    },
    {
      "cell_type": "code",
      "metadata": {
        "id": "G_vW7P68YtTf"
      },
      "source": [
        "config = Cfg.load_config_from_name('vgg_seq2seq')"
      ],
      "execution_count": 7,
      "outputs": []
    },
    {
      "cell_type": "code",
      "metadata": {
        "id": "PZFmVxunYwEh"
      },
      "source": [
        "#config['vocab'] = 'aAàÀảẢãÃáÁạẠăĂằẰẳẲẵẴắẮặẶâÂầẦẩẨẫẪấẤậẬbBcCdDđĐeEèÈẻẺẽẼéÉẹẸêÊềỀểỂễỄếẾệỆfFgGhHiIìÌỉỈĩĨíÍịỊjJkKlLmMnNoOòÒỏỎõÕóÓọỌôÔồỒổỔỗỖốỐộỘơƠờỜởỞỡỠớỚợỢpPqQrRsStTuUùÙủỦũŨúÚụỤưƯừỪửỬữỮứỨựỰvVwWxXyYỳỲỷỶỹỸýÝỵỴzZ0123456789!\"#$%&\\'()*+,-./:;<=>?@[\\\\]^_`{|}~ '\n",
        "\n",
        "dataset_params = {\n",
        "    'name':'hw',\n",
        "    'data_root':'/content/',\n",
        "    'train_annotation':'train_annotation.txt',\n",
        "    'valid_annotation':'test_annotation.txt',\n",
        "    'image_height':64\n",
        "}\n",
        "\n",
        "params = {\n",
        "         'print_every':200,\n",
        "         'valid_every':15*200,\n",
        "          'iters':20000,\n",
        "          'checkpoint':'./checkpoint/transformerocr_checkpoint.pth',    \n",
        "          'export':'./weights/transformerocr.pth',\n",
        "          'metrics': 10000,\n",
        "          'batch_size': 64\n",
        "         }\n",
        "\n",
        "config['trainer'].update(params)\n",
        "config['dataset'].update(dataset_params)\n",
        "config['device'] = 'cuda:1'"
      ],
      "execution_count": 12,
      "outputs": []
    },
    {
      "cell_type": "code",
      "metadata": {
        "colab": {
          "base_uri": "https://localhost:8080/"
        },
        "id": "SczCcd7TcNDd",
        "outputId": "154ee345-afe3-4366-8658-a35f2739dcd4"
      },
      "source": [
        "config"
      ],
      "execution_count": 13,
      "outputs": [
        {
          "output_type": "execute_result",
          "data": {
            "text/plain": [
              "{'aug': {'image_aug': True, 'masked_language_model': True},\n",
              " 'backbone': 'vgg19_bn',\n",
              " 'cnn': {'hidden': 256,\n",
              "  'ks': [[2, 2], [2, 2], [2, 1], [2, 1], [1, 1]],\n",
              "  'ss': [[2, 2], [2, 2], [2, 1], [2, 1], [1, 1]]},\n",
              " 'dataloader': {'num_workers': 3, 'pin_memory': True},\n",
              " 'dataset': {'data_root': '/content/',\n",
              "  'image_height': 64,\n",
              "  'image_max_width': 512,\n",
              "  'image_min_width': 32,\n",
              "  'name': 'hw',\n",
              "  'train_annotation': 'train_annotation.txt',\n",
              "  'valid_annotation': 'test_annotation.txt'},\n",
              " 'device': 'cuda:1',\n",
              " 'optimizer': {'max_lr': 0.001, 'pct_start': 0.1},\n",
              " 'predictor': {'beamsearch': False},\n",
              " 'pretrain': {'cached': '/tmp/tranformerorc.pth',\n",
              "  'id_or_url': '1nTKlEog9YFK74kPyX0qLwCWi60_YHHk4',\n",
              "  'md5': 'efcabaa6d3adfca8e52bda2fd7d2ee04'},\n",
              " 'quiet': False,\n",
              " 'seq_modeling': 'seq2seq',\n",
              " 'trainer': {'batch_size': 16,\n",
              "  'checkpoint': './checkpoint/transformerocr_checkpoint.pth',\n",
              "  'export': './weights/transformerocr.pth',\n",
              "  'iters': 20000,\n",
              "  'log': './train.log',\n",
              "  'metrics': 10000,\n",
              "  'print_every': 200,\n",
              "  'valid_every': 3000},\n",
              " 'transformer': {'decoder_embedded': 256,\n",
              "  'decoder_hidden': 256,\n",
              "  'dropout': 0.1,\n",
              "  'encoder_hidden': 256,\n",
              "  'img_channel': 256},\n",
              " 'vocab': 'aAàÀảẢãÃáÁạẠăĂằẰẳẲẵẴắẮặẶâÂầẦẩẨẫẪấẤậẬbBcCdDđĐeEèÈẻẺẽẼéÉẹẸêÊềỀểỂễỄếẾệỆfFgGhHiIìÌỉỈĩĨíÍịỊjJkKlLmMnNoOòÒỏỎõÕóÓọỌôÔồỒổỔỗỖốỐộỘơƠờỜởỞỡỠớỚợỢpPqQrRsStTuUùÙủỦũŨúÚụỤưƯừỪửỬữỮứỨựỰvVwWxXyYỳỲỷỶỹỸýÝỵỴzZ0123456789!\"#$%&\\'()*+,-./:;<=>?@[\\\\]^_`{|}~ ',\n",
              " 'weights': 'https://drive.google.com/uc?id=1nTKlEog9YFK74kPyX0qLwCWi60_YHHk4'}"
            ]
          },
          "metadata": {},
          "execution_count": 13
        }
      ]
    },
    {
      "cell_type": "code",
      "metadata": {
        "id": "vDUM64gCcS9x"
      },
      "source": [
        "trainer = Trainer(config, pretrained=True)"
      ],
      "execution_count": null,
      "outputs": []
    },
    {
      "cell_type": "code",
      "metadata": {
        "id": "NLTwrKmgdAE-"
      },
      "source": [
        "trainer.config.save('config.yml')"
      ],
      "execution_count": null,
      "outputs": []
    }
  ]
}